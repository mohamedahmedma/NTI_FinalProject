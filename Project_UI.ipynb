{
  "cells": [
    {
      "cell_type": "markdown",
      "metadata": {
        "id": "view-in-github",
        "colab_type": "text"
      },
      "source": [
        "<a href=\"https://colab.research.google.com/github/mohamedahmedma/NTI_FinalProject/blob/main/Project_UI.ipynb\" target=\"_parent\"><img src=\"https://colab.research.google.com/assets/colab-badge.svg\" alt=\"Open In Colab\"/></a>"
      ]
    },
    {
      "cell_type": "code",
      "execution_count": null,
      "id": "6f55a920-f069-453c-a01b-7c0a542fcbb2",
      "metadata": {
        "id": "6f55a920-f069-453c-a01b-7c0a542fcbb2"
      },
      "outputs": [],
      "source": [
        "import gradio as gr\n",
        "import joblib\n",
        "import pandas as pd"
      ]
    },
    {
      "cell_type": "code",
      "execution_count": null,
      "id": "73e297e2-4d5b-4ef1-a7f3-f166ab61ba6c",
      "metadata": {
        "id": "73e297e2-4d5b-4ef1-a7f3-f166ab61ba6c"
      },
      "outputs": [],
      "source": [
        "# Load model and encoders\n",
        "encoders = {\n",
        "    'gender': joblib.load('gender_encoder.pkl'),\n",
        "    'title': joblib.load('title_encoder.pkl'),\n",
        "    'department': joblib.load('department_encoder.pkl')\n",
        "}\n",
        "\n",
        "labels = {\n",
        "    'gender': joblib.load('gender_labels.pkl'),\n",
        "    'title': joblib.load('title_labels.pkl'),\n",
        "    'department': joblib.load('department_labels.pkl')\n",
        "}\n",
        "\n",
        "# Load your trained model\n",
        "model = joblib.load('rf_model.pkl')\n"
      ]
    },
    {
      "cell_type": "code",
      "execution_count": null,
      "id": "72d48352-dbda-493d-b019-ffd4c4316d56",
      "metadata": {
        "id": "72d48352-dbda-493d-b019-ffd4c4316d56"
      },
      "outputs": [],
      "source": [
        "\n",
        "def predict(company_tenure, gender, latest_salary, title, department):\n",
        "    try:\n",
        "        # Convert human-readable labels to encoded values\n",
        "        input_data = {\n",
        "            'company_tenure': company_tenure,\n",
        "            'gender': encoders['gender'].transform([gender])[0],\n",
        "            'latest_salary': latest_salary,\n",
        "            'title': encoders['title'].transform([title])[0],\n",
        "            'department': encoders['department'].transform([department])[0]\n",
        "        }\n",
        "\n",
        "        # Convert to DataFrame for prediction\n",
        "        df = pd.DataFrame([input_data])\n",
        "\n",
        "        # Get prediction\n",
        "        pred = model.predict(df)[0]\n",
        "        return \"Will Leave\" if pred == 1 else \"Will Stay\"\n",
        "\n",
        "    except ValueError as e:\n",
        "        return f\"Error: {str(e)}\""
      ]
    },
    {
      "cell_type": "code",
      "execution_count": null,
      "id": "e6129c68-937a-4c86-96c6-65348411323c",
      "metadata": {
        "id": "e6129c68-937a-4c86-96c6-65348411323c",
        "outputId": "fb7d6d29-5269-425a-ddcc-fa917c3500ca"
      },
      "outputs": [
        {
          "name": "stdout",
          "output_type": "stream",
          "text": [
            "* Running on local URL:  http://127.0.0.1:7865\n",
            "* To create a public link, set `share=True` in `launch()`.\n"
          ]
        },
        {
          "data": {
            "text/html": [
              "<div><iframe src=\"http://127.0.0.1:7865/\" width=\"100%\" height=\"500\" allow=\"autoplay; camera; microphone; clipboard-read; clipboard-write;\" frameborder=\"0\" allowfullscreen></iframe></div>"
            ],
            "text/plain": [
              "<IPython.core.display.HTML object>"
            ]
          },
          "metadata": {},
          "output_type": "display_data"
        },
        {
          "data": {
            "text/plain": []
          },
          "execution_count": 27,
          "metadata": {},
          "output_type": "execute_result"
        }
      ],
      "source": [
        "# Create Gradio interface with human-readable labels\n",
        "demo = gr.Interface(\n",
        "    fn=predict,\n",
        "    inputs=[\n",
        "        gr.Number(label=\"Company Tenure (years)\"),\n",
        "        gr.Dropdown(choices=labels['gender'], label=\"Gender\"),\n",
        "        gr.Number(label=\"Latest Salary\"),\n",
        "        gr.Dropdown(choices=labels['title'], label=\"Job Title\"),\n",
        "        gr.Dropdown(choices=labels['department'], label=\"Department\")\n",
        "    ],\n",
        "    outputs=\"text\",\n",
        "    title=\"Employee Turnover Prediction\",\n",
        "    description=\"Predict if an employee will stay or leave based on their details.\"\n",
        ")\n",
        "\n",
        "demo.launch()"
      ]
    },
    {
      "cell_type": "code",
      "execution_count": null,
      "id": "ac346ec0-8eae-4700-a167-7b1e0f2a097e",
      "metadata": {
        "id": "ac346ec0-8eae-4700-a167-7b1e0f2a097e"
      },
      "outputs": [],
      "source": []
    }
  ],
  "metadata": {
    "kernelspec": {
      "display_name": "Python 3 (ipykernel)",
      "language": "python",
      "name": "python3"
    },
    "language_info": {
      "codemirror_mode": {
        "name": "ipython",
        "version": 3
      },
      "file_extension": ".py",
      "mimetype": "text/x-python",
      "name": "python",
      "nbconvert_exporter": "python",
      "pygments_lexer": "ipython3",
      "version": "3.13.5"
    },
    "colab": {
      "provenance": [],
      "include_colab_link": true
    }
  },
  "nbformat": 4,
  "nbformat_minor": 5
}